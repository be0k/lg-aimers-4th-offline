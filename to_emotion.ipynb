{
 "cells": [
  {
   "cell_type": "code",
   "execution_count": 42,
   "id": "c2862752",
   "metadata": {},
   "outputs": [],
   "source": [
    "import torch\n",
    "import pandas as pd\n",
    "import numpy as np\n",
    "from transformers import AutoTokenizer, AutoModelForSequenceClassification,Trainer\n",
    "import transformers"
   ]
  },
  {
   "cell_type": "code",
   "execution_count": 43,
   "id": "49a6b53c",
   "metadata": {},
   "outputs": [
    {
     "data": {
      "text/plain": [
       "'4.38.2'"
      ]
     },
     "execution_count": 43,
     "metadata": {},
     "output_type": "execute_result"
    }
   ],
   "source": [
    "transformers.__version__"
   ]
  },
  {
   "cell_type": "code",
   "execution_count": 44,
   "id": "38266863",
   "metadata": {},
   "outputs": [
    {
     "data": {
      "text/plain": [
       "'0.27.2'"
      ]
     },
     "execution_count": 44,
     "metadata": {},
     "output_type": "execute_result"
    }
   ],
   "source": [
    "import accelerate\n",
    "accelerate.__version__"
   ]
  },
  {
   "cell_type": "code",
   "execution_count": 45,
   "id": "c7249f9d",
   "metadata": {},
   "outputs": [],
   "source": [
    "class newDataset:\n",
    "    def __init__(self, torkenized_texts):\n",
    "        self.tokenized_texts = tokenized_texts\n",
    "    \n",
    "    def __len__(self):\n",
    "        return len(self.tokenized_texts[\"input_ids\"])\n",
    "    \n",
    "    def __getitem__(self, idx):\n",
    "        return {k:v[idx] for k, v in self.tokenized_texts.items()}\n",
    "    \n",
    "model_name = 'j-hartmann/emotion-english-distilroberta-base'\n",
    "tokenizer = AutoTokenizer.from_pretrained(model_name)\n",
    "model = AutoModelForSequenceClassification.from_pretrained(model_name)\n",
    "trainer = Trainer(model=model)"
   ]
  },
  {
   "cell_type": "code",
   "execution_count": 46,
   "id": "12afc041",
   "metadata": {},
   "outputs": [],
   "source": [
    "file_name = 'train.csv'\n",
    "text_column = 'lead_description'\n",
    "df_pred = pd.read_csv(file_name)\n",
    "df_pred[text_column] = df_pred[text_column].fillna('NAN')\n",
    "pred_texts = df_pred[text_column].dropna().astype('str').tolist()"
   ]
  },
  {
   "cell_type": "code",
   "execution_count": 47,
   "id": "3b78a04a",
   "metadata": {},
   "outputs": [],
   "source": [
    "tokenized_texts = tokenizer(pred_texts, truncation=True,padding=True)\n",
    "pred_texts = newDataset(tokenized_texts)"
   ]
  },
  {
   "cell_type": "code",
   "execution_count": 48,
   "id": "d427a1a5",
   "metadata": {},
   "outputs": [
    {
     "data": {
      "text/html": [],
      "text/plain": [
       "<IPython.core.display.HTML object>"
      ]
     },
     "metadata": {},
     "output_type": "display_data"
    }
   ],
   "source": [
    "prediction = trainer.predict(pred_texts)"
   ]
  },
  {
   "cell_type": "code",
   "execution_count": 49,
   "id": "feb76d35",
   "metadata": {},
   "outputs": [],
   "source": [
    "predictions = prediction"
   ]
  },
  {
   "cell_type": "code",
   "execution_count": 50,
   "id": "9c0bdd33",
   "metadata": {},
   "outputs": [],
   "source": [
    "# Transform predictions to labels\n",
    "preds = predictions.predictions.argmax(-1)\n",
    "labels = pd.Series(preds).map(model.config.id2label)\n",
    "scores = (np.exp(predictions[0])/np.exp(predictions[0]).sum(-1,keepdims=True)).max(1)"
   ]
  },
  {
   "cell_type": "code",
   "execution_count": 56,
   "id": "5dd6bef1",
   "metadata": {},
   "outputs": [
    {
     "data": {
      "text/html": [
       "<div>\n",
       "<style scoped>\n",
       "    .dataframe tbody tr th:only-of-type {\n",
       "        vertical-align: middle;\n",
       "    }\n",
       "\n",
       "    .dataframe tbody tr th {\n",
       "        vertical-align: top;\n",
       "    }\n",
       "\n",
       "    .dataframe thead th {\n",
       "        text-align: right;\n",
       "    }\n",
       "</style>\n",
       "<table border=\"1\" class=\"dataframe\">\n",
       "  <thead>\n",
       "    <tr style=\"text-align: right;\">\n",
       "      <th></th>\n",
       "      <th>text</th>\n",
       "      <th>pred</th>\n",
       "      <th>label</th>\n",
       "      <th>score</th>\n",
       "      <th>anger</th>\n",
       "      <th>disgust</th>\n",
       "      <th>fear</th>\n",
       "      <th>joy</th>\n",
       "      <th>neutral</th>\n",
       "      <th>sadness</th>\n",
       "      <th>surprise</th>\n",
       "    </tr>\n",
       "  </thead>\n",
       "  <tbody>\n",
       "    <tr>\n",
       "      <th>0</th>\n",
       "      <td>{'input_ids': [0, 487, 1889, 2, 1, 1, 1, 1, 1,...</td>\n",
       "      <td>4</td>\n",
       "      <td>neutral</td>\n",
       "      <td>0.715612</td>\n",
       "      <td>0.024700</td>\n",
       "      <td>0.048721</td>\n",
       "      <td>0.013289</td>\n",
       "      <td>0.014079</td>\n",
       "      <td>0.715612</td>\n",
       "      <td>0.076745</td>\n",
       "      <td>0.106854</td>\n",
       "    </tr>\n",
       "    <tr>\n",
       "      <th>1</th>\n",
       "      <td>{'input_ids': [0, 118, 33, 41, 793, 467, 240, ...</td>\n",
       "      <td>5</td>\n",
       "      <td>sadness</td>\n",
       "      <td>0.936021</td>\n",
       "      <td>0.011519</td>\n",
       "      <td>0.001132</td>\n",
       "      <td>0.003908</td>\n",
       "      <td>0.005819</td>\n",
       "      <td>0.014641</td>\n",
       "      <td>0.936021</td>\n",
       "      <td>0.026960</td>\n",
       "    </tr>\n",
       "    <tr>\n",
       "      <th>2</th>\n",
       "      <td>{'input_ids': [0, 9112, 40455, 3842, 36759, 37...</td>\n",
       "      <td>4</td>\n",
       "      <td>neutral</td>\n",
       "      <td>0.916403</td>\n",
       "      <td>0.027019</td>\n",
       "      <td>0.005466</td>\n",
       "      <td>0.004710</td>\n",
       "      <td>0.006501</td>\n",
       "      <td>0.916403</td>\n",
       "      <td>0.018432</td>\n",
       "      <td>0.021469</td>\n",
       "    </tr>\n",
       "    <tr>\n",
       "      <th>3</th>\n",
       "      <td>{'input_ids': [0, 41257, 2319, 1229, 2, 1, 1, ...</td>\n",
       "      <td>4</td>\n",
       "      <td>neutral</td>\n",
       "      <td>0.854739</td>\n",
       "      <td>0.009136</td>\n",
       "      <td>0.003865</td>\n",
       "      <td>0.005798</td>\n",
       "      <td>0.010212</td>\n",
       "      <td>0.854739</td>\n",
       "      <td>0.051155</td>\n",
       "      <td>0.065095</td>\n",
       "    </tr>\n",
       "    <tr>\n",
       "      <th>4</th>\n",
       "      <td>{'input_ids': [0, 15833, 4932, 13, 275, 425, 6...</td>\n",
       "      <td>4</td>\n",
       "      <td>neutral</td>\n",
       "      <td>0.899226</td>\n",
       "      <td>0.021235</td>\n",
       "      <td>0.004996</td>\n",
       "      <td>0.006930</td>\n",
       "      <td>0.018254</td>\n",
       "      <td>0.899226</td>\n",
       "      <td>0.013417</td>\n",
       "      <td>0.035941</td>\n",
       "    </tr>\n",
       "  </tbody>\n",
       "</table>\n",
       "</div>"
      ],
      "text/plain": [
       "                                                text  pred    label     score  \\\n",
       "0  {'input_ids': [0, 487, 1889, 2, 1, 1, 1, 1, 1,...     4  neutral  0.715612   \n",
       "1  {'input_ids': [0, 118, 33, 41, 793, 467, 240, ...     5  sadness  0.936021   \n",
       "2  {'input_ids': [0, 9112, 40455, 3842, 36759, 37...     4  neutral  0.916403   \n",
       "3  {'input_ids': [0, 41257, 2319, 1229, 2, 1, 1, ...     4  neutral  0.854739   \n",
       "4  {'input_ids': [0, 15833, 4932, 13, 275, 425, 6...     4  neutral  0.899226   \n",
       "\n",
       "      anger   disgust      fear       joy   neutral   sadness  surprise  \n",
       "0  0.024700  0.048721  0.013289  0.014079  0.715612  0.076745  0.106854  \n",
       "1  0.011519  0.001132  0.003908  0.005819  0.014641  0.936021  0.026960  \n",
       "2  0.027019  0.005466  0.004710  0.006501  0.916403  0.018432  0.021469  \n",
       "3  0.009136  0.003865  0.005798  0.010212  0.854739  0.051155  0.065095  \n",
       "4  0.021235  0.004996  0.006930  0.018254  0.899226  0.013417  0.035941  "
      ]
     },
     "execution_count": 56,
     "metadata": {},
     "output_type": "execute_result"
    }
   ],
   "source": [
    "df.head()"
   ]
  },
  {
   "cell_type": "code",
   "execution_count": 51,
   "id": "11a3ef24",
   "metadata": {},
   "outputs": [],
   "source": [
    "temp = (np.exp(predictions[0])/np.exp(predictions[0]).sum(-1,keepdims=True))"
   ]
  },
  {
   "cell_type": "code",
   "execution_count": 52,
   "id": "d61ef3dd",
   "metadata": {},
   "outputs": [],
   "source": [
    "# work in progress\n",
    "# container\n",
    "anger = []\n",
    "disgust = []\n",
    "fear = []\n",
    "joy = []\n",
    "neutral = []\n",
    "sadness = []\n",
    "surprise = []\n",
    "\n",
    "# extract scores (as many entries as exist in pred_texts)\n",
    "for i in range(len(pred_texts)):\n",
    "    anger.append(temp[i][0])\n",
    "    disgust.append(temp[i][1])\n",
    "    fear.append(temp[i][2])\n",
    "    joy.append(temp[i][3])\n",
    "    neutral.append(temp[i][4])\n",
    "    sadness.append(temp[i][5])\n",
    "    surprise.append(temp[i][6])"
   ]
  },
  {
   "cell_type": "code",
   "execution_count": 53,
   "id": "ab16a7f0",
   "metadata": {},
   "outputs": [
    {
     "data": {
      "text/html": [
       "<div>\n",
       "<style scoped>\n",
       "    .dataframe tbody tr th:only-of-type {\n",
       "        vertical-align: middle;\n",
       "    }\n",
       "\n",
       "    .dataframe tbody tr th {\n",
       "        vertical-align: top;\n",
       "    }\n",
       "\n",
       "    .dataframe thead th {\n",
       "        text-align: right;\n",
       "    }\n",
       "</style>\n",
       "<table border=\"1\" class=\"dataframe\">\n",
       "  <thead>\n",
       "    <tr style=\"text-align: right;\">\n",
       "      <th></th>\n",
       "      <th>text</th>\n",
       "      <th>pred</th>\n",
       "      <th>label</th>\n",
       "      <th>score</th>\n",
       "      <th>anger</th>\n",
       "      <th>disgust</th>\n",
       "      <th>fear</th>\n",
       "      <th>joy</th>\n",
       "      <th>neutral</th>\n",
       "      <th>sadness</th>\n",
       "      <th>surprise</th>\n",
       "    </tr>\n",
       "  </thead>\n",
       "  <tbody>\n",
       "    <tr>\n",
       "      <th>0</th>\n",
       "      <td>{'input_ids': [0, 487, 1889, 2, 1, 1, 1, 1, 1,...</td>\n",
       "      <td>4</td>\n",
       "      <td>neutral</td>\n",
       "      <td>0.715612</td>\n",
       "      <td>0.024700</td>\n",
       "      <td>0.048721</td>\n",
       "      <td>0.013289</td>\n",
       "      <td>0.014079</td>\n",
       "      <td>0.715612</td>\n",
       "      <td>0.076745</td>\n",
       "      <td>0.106854</td>\n",
       "    </tr>\n",
       "    <tr>\n",
       "      <th>1</th>\n",
       "      <td>{'input_ids': [0, 118, 33, 41, 793, 467, 240, ...</td>\n",
       "      <td>5</td>\n",
       "      <td>sadness</td>\n",
       "      <td>0.936021</td>\n",
       "      <td>0.011519</td>\n",
       "      <td>0.001132</td>\n",
       "      <td>0.003908</td>\n",
       "      <td>0.005819</td>\n",
       "      <td>0.014641</td>\n",
       "      <td>0.936021</td>\n",
       "      <td>0.026960</td>\n",
       "    </tr>\n",
       "    <tr>\n",
       "      <th>2</th>\n",
       "      <td>{'input_ids': [0, 9112, 40455, 3842, 36759, 37...</td>\n",
       "      <td>4</td>\n",
       "      <td>neutral</td>\n",
       "      <td>0.916403</td>\n",
       "      <td>0.027019</td>\n",
       "      <td>0.005466</td>\n",
       "      <td>0.004710</td>\n",
       "      <td>0.006501</td>\n",
       "      <td>0.916403</td>\n",
       "      <td>0.018432</td>\n",
       "      <td>0.021469</td>\n",
       "    </tr>\n",
       "    <tr>\n",
       "      <th>3</th>\n",
       "      <td>{'input_ids': [0, 41257, 2319, 1229, 2, 1, 1, ...</td>\n",
       "      <td>4</td>\n",
       "      <td>neutral</td>\n",
       "      <td>0.854739</td>\n",
       "      <td>0.009136</td>\n",
       "      <td>0.003865</td>\n",
       "      <td>0.005798</td>\n",
       "      <td>0.010212</td>\n",
       "      <td>0.854739</td>\n",
       "      <td>0.051155</td>\n",
       "      <td>0.065095</td>\n",
       "    </tr>\n",
       "    <tr>\n",
       "      <th>4</th>\n",
       "      <td>{'input_ids': [0, 15833, 4932, 13, 275, 425, 6...</td>\n",
       "      <td>4</td>\n",
       "      <td>neutral</td>\n",
       "      <td>0.899226</td>\n",
       "      <td>0.021235</td>\n",
       "      <td>0.004996</td>\n",
       "      <td>0.006930</td>\n",
       "      <td>0.018254</td>\n",
       "      <td>0.899226</td>\n",
       "      <td>0.013417</td>\n",
       "      <td>0.035941</td>\n",
       "    </tr>\n",
       "  </tbody>\n",
       "</table>\n",
       "</div>"
      ],
      "text/plain": [
       "                                                text  pred    label     score  \\\n",
       "0  {'input_ids': [0, 487, 1889, 2, 1, 1, 1, 1, 1,...     4  neutral  0.715612   \n",
       "1  {'input_ids': [0, 118, 33, 41, 793, 467, 240, ...     5  sadness  0.936021   \n",
       "2  {'input_ids': [0, 9112, 40455, 3842, 36759, 37...     4  neutral  0.916403   \n",
       "3  {'input_ids': [0, 41257, 2319, 1229, 2, 1, 1, ...     4  neutral  0.854739   \n",
       "4  {'input_ids': [0, 15833, 4932, 13, 275, 425, 6...     4  neutral  0.899226   \n",
       "\n",
       "      anger   disgust      fear       joy   neutral   sadness  surprise  \n",
       "0  0.024700  0.048721  0.013289  0.014079  0.715612  0.076745  0.106854  \n",
       "1  0.011519  0.001132  0.003908  0.005819  0.014641  0.936021  0.026960  \n",
       "2  0.027019  0.005466  0.004710  0.006501  0.916403  0.018432  0.021469  \n",
       "3  0.009136  0.003865  0.005798  0.010212  0.854739  0.051155  0.065095  \n",
       "4  0.021235  0.004996  0.006930  0.018254  0.899226  0.013417  0.035941  "
      ]
     },
     "execution_count": 53,
     "metadata": {},
     "output_type": "execute_result"
    }
   ],
   "source": [
    "# Create DataFrame with texts, predictions, labels, and scores\n",
    "df = pd.DataFrame(list(zip(pred_texts,preds,labels,scores,  anger, disgust, fear, joy, neutral, sadness, surprise)), columns=['text','pred','label','score', 'anger', 'disgust', 'fear', 'joy', 'neutral', 'sadness', 'surprise'])\n",
    "df.head()"
   ]
  },
  {
   "cell_type": "code",
   "execution_count": 54,
   "id": "9155ae80",
   "metadata": {},
   "outputs": [],
   "source": [
    "a = df[['anger','disgust','fear','joy','neutral','sadness','surprise']]"
   ]
  },
  {
   "cell_type": "code",
   "execution_count": 57,
   "id": "9474ccfe",
   "metadata": {},
   "outputs": [],
   "source": [
    "a.to_csv('test_emotion.csv')"
   ]
  },
  {
   "cell_type": "code",
   "execution_count": null,
   "id": "d48c2aa3",
   "metadata": {},
   "outputs": [],
   "source": [
    "# def objective(trial):\n",
    "#     params = {\n",
    "#         \"iterations\": 1000,\n",
    "#         \"depth\": trial.suggest_int(\"depth\", 4, 10),\n",
    "#         \"learning_rate\": trial.suggest_float(\"learning_rate\", 1e-3, 1.0),\n",
    "#         \"random_strength\": trial.suggest_float(\"random_strength\", 1e-3, 1e-1, log=True),\n",
    "#         \"border_count\": trial.suggest_int(\"border_count\", 1, 255),\n",
    "#         \"l2_leaf_reg\": trial.suggest_float(\"l2_leaf_reg\", 1e-3, 1e2, log=True),\n",
    "#         \"leaf_estimation_iterations\": trial.suggest_int(\"leaf_estimation_iterations\", 1, 10),\n",
    "#         \"leaf_estimation_method\": trial.suggest_categorical(\"leaf_estimation_method\", [\"Newton\", \"Gradient\"]),\n",
    "#         \"bootstrap_type\": trial.suggest_categorical(\"bootstrap_type\", [\"Bayesian\", \"Bernoulli\", \"MVS\"]),\n",
    "#         \"grow_policy\": trial.suggest_categorical(\"grow_policy\", [\"SymmetricTree\", \"Depthwise\", \"Lossguide\"]),\n",
    "#         \"min_data_in_leaf\": trial.suggest_int(\"min_data_in_leaf\", 1, 100),\n",
    "#         \"one_hot_max_size\": 1,\n",
    "#         \"random_state\": seed,\n",
    "#         \"verbose\": 0,\n",
    "#     }\n",
    "    \n",
    "#     #score = []\n",
    "#     tmp_score = []\n",
    "#     for train_pool, val_pool, y_true in zip(all_train_pool, all_val_pool, all_y_val):\n",
    "#         clf = CatBoostClassifier(**params,\n",
    "#                                  scale_pos_weight=np.sqrt(rate), \n",
    "#                                  loss_function='Logloss',\n",
    "#                                  eval_metric='F1',\n",
    "#                                  early_stopping_rounds=100,\n",
    "#                                  #task_type=\"GPU\",\n",
    "#                                 )\n",
    "#         clf.fit(train_pool, eval_set=val_pool)\n",
    "# #         y_pred = clf.predict(val_pool)\n",
    "# #         y_pred = [False if i==0 else True for i in y_pred]\n",
    "# #         tmp_score.append(f1_score(y_true,y_pred,labels=[True, False]))\n",
    "#         tmp_score.append(clf.get_feature_importance()[5])\n",
    "#     tmp_score = np.mean(tmp_score)\n",
    "#     return tmp_score\n",
    "\n",
    "# # Hyperparameter Tuning\n",
    "# study = optuna.create_study(direction='maximize', sampler=TPESampler(seed=seed), pruner=SuccessiveHalvingPruner())\n",
    "# study.optimize(objective, n_trials=None)"
   ]
  },
  {
   "cell_type": "code",
   "execution_count": null,
   "id": "fc4cf215",
   "metadata": {},
   "outputs": [],
   "source": []
  },
  {
   "cell_type": "code",
   "execution_count": null,
   "id": "d66c8967",
   "metadata": {},
   "outputs": [],
   "source": []
  },
  {
   "cell_type": "code",
   "execution_count": null,
   "id": "584bde4b",
   "metadata": {},
   "outputs": [],
   "source": []
  },
  {
   "cell_type": "code",
   "execution_count": null,
   "id": "fe5e20e6",
   "metadata": {},
   "outputs": [],
   "source": []
  }
 ],
 "metadata": {
  "kernelspec": {
   "display_name": "Python 3 (ipykernel)",
   "language": "python",
   "name": "python3"
  },
  "language_info": {
   "codemirror_mode": {
    "name": "ipython",
    "version": 3
   },
   "file_extension": ".py",
   "mimetype": "text/x-python",
   "name": "python",
   "nbconvert_exporter": "python",
   "pygments_lexer": "ipython3",
   "version": "3.11.5"
  }
 },
 "nbformat": 4,
 "nbformat_minor": 5
}
